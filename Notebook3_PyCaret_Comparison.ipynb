{
  "cells": [
    {
      "cell_type": "markdown",
      "metadata": {},
      "source": [
        "# Notebook 3: Comparação PyCaret vs Scikit-learn para Clustering\n",
        "\n",
        "**Objetivo:** Implementar PyCaret para comparação com Scikit-learn, incluindo todas as features do dataset\n",
        "\n",
        "**Desenvolvido por:** Alan de Souza Maximiano (RM: 557088)\n",
        "\n",
        "**Data:** 2025\n",
        "\n",
        "---\n",
        "\n",
        "## 🎯 Objetivos\n",
        "\n",
        "1. **Implementar PyCaret** para clustering com todas as features\n",
        "2. **Comparar PyCaret vs Scikit-learn** em múltiplas métricas\n",
        "3. **Justificar a escolha** do melhor modelo\n",
        "4. **Documentar resultados** para o webapp\n"
      ]
    },
    {
      "cell_type": "markdown",
      "metadata": {},
      "source": [
        "## 1. Instalação e Importação das Bibliotecas\n"
      ]
    },
    {
      "cell_type": "code",
      "execution_count": null,
      "metadata": {},
      "outputs": [],
      "source": [
        "# Instalação das bibliotecas necessárias\n",
        "%pip install pycaret[full] --quiet\n",
        "%pip install scikit-learn pandas numpy matplotlib seaborn plotly --quiet\n"
      ]
    },
    {
      "cell_type": "code",
      "execution_count": null,
      "metadata": {},
      "outputs": [],
      "source": [
        "# Importação das bibliotecas\n",
        "import pandas as pd\n",
        "import numpy as np\n",
        "import matplotlib.pyplot as plt\n",
        "import seaborn as sns\n",
        "import plotly.express as px\n",
        "import plotly.graph_objects as go\n",
        "from plotly.subplots import make_subplots\n",
        "\n",
        "# PyCaret imports\n",
        "from pycaret.clustering import *\n",
        "from pycaret.utils import enable_colab\n",
        "\n",
        "# Scikit-learn imports\n",
        "from sklearn.cluster import KMeans, DBSCAN, AgglomerativeClustering\n",
        "from sklearn.mixture import GaussianMixture\n",
        "from sklearn.feature_extraction.text import TfidfVectorizer\n",
        "from sklearn.preprocessing import StandardScaler, LabelEncoder\n",
        "from sklearn.metrics import silhouette_score, calinski_harabasz_score, davies_bouldin_score\n",
        "from sklearn.decomposition import PCA\n",
        "from sklearn.manifold import TSNE\n",
        "\n",
        "import warnings\n",
        "warnings.filterwarnings('ignore')\n",
        "\n",
        "# Configurações\n",
        "pd.set_option('display.max_rows', 1000)\n",
        "pd.set_option('display.max_columns', 500)\n",
        "pd.set_option('display.width', 1000)\n",
        "pd.set_option('display.max_colwidth', 100)\n",
        "\n",
        "plt.rcParams['figure.figsize'] = (12, 8)\n",
        "plt.rcParams['font.size'] = 10\n",
        "\n",
        "print(\"✅ Bibliotecas importadas com sucesso!\")\n",
        "print(f\"📊 Pandas version: {pd.__version__}\")\n",
        "print(f\"🔢 NumPy version: {np.__version__}\")\n",
        "print(f\"🤖 PyCaret version: {__import__('pycaret').__version__}\")\n"
      ]
    }
  ],
  "metadata": {
    "language_info": {
      "name": "python"
    }
  },
  "nbformat": 4,
  "nbformat_minor": 2
}
